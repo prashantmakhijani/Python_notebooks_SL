{
 "cells": [
  {
   "cell_type": "code",
   "execution_count": 1,
   "metadata": {},
   "outputs": [],
   "source": [
    "import pandas as pd\n",
    "import matplotlib as plt\n",
    "df=pd.read_csv(\"Datasets/PH_DATA.csv\",index_col = 0)"
   ]
  },
  {
   "cell_type": "code",
   "execution_count": 2,
   "metadata": {},
   "outputs": [
    {
     "data": {
      "text/html": [
       "<div>\n",
       "<style scoped>\n",
       "    .dataframe tbody tr th:only-of-type {\n",
       "        vertical-align: middle;\n",
       "    }\n",
       "\n",
       "    .dataframe tbody tr th {\n",
       "        vertical-align: top;\n",
       "    }\n",
       "\n",
       "    .dataframe thead th {\n",
       "        text-align: right;\n",
       "    }\n",
       "</style>\n",
       "<table border=\"1\" class=\"dataframe\">\n",
       "  <thead>\n",
       "    <tr style=\"text-align: right;\">\n",
       "      <th></th>\n",
       "      <th>Symbol</th>\n",
       "      <th>Name</th>\n",
       "      <th>Market_Cap</th>\n",
       "      <th>Beta</th>\n",
       "      <th>PE_Ratio</th>\n",
       "      <th>ROE</th>\n",
       "      <th>ROA</th>\n",
       "      <th>Asset_Turnover</th>\n",
       "      <th>Leverage</th>\n",
       "      <th>Rev_Growth</th>\n",
       "      <th>Net_Profit_Margin</th>\n",
       "      <th>Median_Recommendation</th>\n",
       "      <th>Location</th>\n",
       "      <th>Exchange</th>\n",
       "      <th>Cluster</th>\n",
       "    </tr>\n",
       "  </thead>\n",
       "  <tbody>\n",
       "    <tr>\n",
       "      <th>0</th>\n",
       "      <td>NVS</td>\n",
       "      <td>Novartis AG</td>\n",
       "      <td>96.65</td>\n",
       "      <td>0.19</td>\n",
       "      <td>21.6</td>\n",
       "      <td>17.9</td>\n",
       "      <td>11.2</td>\n",
       "      <td>0.5</td>\n",
       "      <td>0.06</td>\n",
       "      <td>-2.69</td>\n",
       "      <td>22.4</td>\n",
       "      <td>Hold</td>\n",
       "      <td>SWITZERLAND</td>\n",
       "      <td>NYSE</td>\n",
       "      <td>2</td>\n",
       "    </tr>\n",
       "    <tr>\n",
       "      <th>1</th>\n",
       "      <td>BAY</td>\n",
       "      <td>Bayer AG</td>\n",
       "      <td>16.90</td>\n",
       "      <td>1.11</td>\n",
       "      <td>27.9</td>\n",
       "      <td>3.9</td>\n",
       "      <td>1.4</td>\n",
       "      <td>0.6</td>\n",
       "      <td>0.00</td>\n",
       "      <td>-3.17</td>\n",
       "      <td>2.6</td>\n",
       "      <td>Hold</td>\n",
       "      <td>GERMANY</td>\n",
       "      <td>NYSE</td>\n",
       "      <td>5</td>\n",
       "    </tr>\n",
       "    <tr>\n",
       "      <th>2</th>\n",
       "      <td>CHTT</td>\n",
       "      <td>Chattem, Inc</td>\n",
       "      <td>0.41</td>\n",
       "      <td>0.85</td>\n",
       "      <td>26.0</td>\n",
       "      <td>24.1</td>\n",
       "      <td>4.3</td>\n",
       "      <td>0.6</td>\n",
       "      <td>3.51</td>\n",
       "      <td>6.38</td>\n",
       "      <td>7.5</td>\n",
       "      <td>Moderate Buy</td>\n",
       "      <td>US</td>\n",
       "      <td>NASDAQ</td>\n",
       "      <td>4</td>\n",
       "    </tr>\n",
       "    <tr>\n",
       "      <th>3</th>\n",
       "      <td>AVE</td>\n",
       "      <td>Aventis</td>\n",
       "      <td>47.16</td>\n",
       "      <td>0.32</td>\n",
       "      <td>20.1</td>\n",
       "      <td>21.8</td>\n",
       "      <td>7.5</td>\n",
       "      <td>0.6</td>\n",
       "      <td>0.34</td>\n",
       "      <td>26.81</td>\n",
       "      <td>12.9</td>\n",
       "      <td>Moderate Buy</td>\n",
       "      <td>FRANCE</td>\n",
       "      <td>NYSE</td>\n",
       "      <td>3</td>\n",
       "    </tr>\n",
       "    <tr>\n",
       "      <th>4</th>\n",
       "      <td>IVX</td>\n",
       "      <td>IVAX Corporation</td>\n",
       "      <td>2.60</td>\n",
       "      <td>0.65</td>\n",
       "      <td>19.9</td>\n",
       "      <td>21.4</td>\n",
       "      <td>6.8</td>\n",
       "      <td>0.6</td>\n",
       "      <td>1.45</td>\n",
       "      <td>13.99</td>\n",
       "      <td>11.0</td>\n",
       "      <td>Hold</td>\n",
       "      <td>US</td>\n",
       "      <td>AMEX</td>\n",
       "      <td>3</td>\n",
       "    </tr>\n",
       "  </tbody>\n",
       "</table>\n",
       "</div>"
      ],
      "text/plain": [
       "  Symbol              Name  Market_Cap  Beta  PE_Ratio   ROE   ROA  \\\n",
       "0    NVS       Novartis AG       96.65  0.19      21.6  17.9  11.2   \n",
       "1    BAY          Bayer AG       16.90  1.11      27.9   3.9   1.4   \n",
       "2   CHTT      Chattem, Inc        0.41  0.85      26.0  24.1   4.3   \n",
       "3    AVE           Aventis       47.16  0.32      20.1  21.8   7.5   \n",
       "4    IVX  IVAX Corporation        2.60  0.65      19.9  21.4   6.8   \n",
       "\n",
       "   Asset_Turnover  Leverage  Rev_Growth  Net_Profit_Margin  \\\n",
       "0             0.5      0.06       -2.69               22.4   \n",
       "1             0.6      0.00       -3.17                2.6   \n",
       "2             0.6      3.51        6.38                7.5   \n",
       "3             0.6      0.34       26.81               12.9   \n",
       "4             0.6      1.45       13.99               11.0   \n",
       "\n",
       "  Median_Recommendation     Location Exchange  Cluster  \n",
       "0                  Hold  SWITZERLAND     NYSE        2  \n",
       "1                  Hold      GERMANY     NYSE        5  \n",
       "2          Moderate Buy           US   NASDAQ        4  \n",
       "3          Moderate Buy       FRANCE     NYSE        3  \n",
       "4                  Hold           US     AMEX        3  "
      ]
     },
     "execution_count": 2,
     "metadata": {},
     "output_type": "execute_result"
    }
   ],
   "source": [
    "df.head()"
   ]
  },
  {
   "cell_type": "code",
   "execution_count": 3,
   "metadata": {},
   "outputs": [],
   "source": [
    "# split data table into data X and class labels Y\n",
    "\n",
    "X = df.iloc[:,2:11].values\n",
    "Y = df.iloc[:,14].values"
   ]
  },
  {
   "cell_type": "code",
   "execution_count": 4,
   "metadata": {},
   "outputs": [],
   "source": [
    "## STANDARDIZE DATA\n",
    "from sklearn.preprocessing import StandardScaler\n",
    "X_std = StandardScaler().fit_transform(X)"
   ]
  },
  {
   "cell_type": "code",
   "execution_count": 6,
   "metadata": {},
   "outputs": [],
   "source": [
    "import numpy as np"
   ]
  },
  {
   "cell_type": "code",
   "execution_count": null,
   "metadata": {},
   "outputs": [],
   "source": [
    "mean_vec = np.mean(X_std, axis=0)\n",
    "cov_mat = (X_std - mean_vec).T.dot((X_std - mean_vec)) / (X_std.shape[0]-1)"
   ]
  },
  {
   "cell_type": "code",
   "execution_count": 7,
   "metadata": {},
   "outputs": [
    {
     "data": {
      "text/plain": [
       "array([[ 1.        , -0.31250762, -0.08798317,  0.61952576,  0.80908852,\n",
       "         0.50791751, -0.40893748,  0.00378898,  0.51671108],\n",
       "       [-0.31250762,  1.        , -0.19716312, -0.20273345, -0.42583638,\n",
       "        -0.32069694,  0.40116206,  0.08807135, -0.34546582],\n",
       "       [-0.08798317, -0.19716312,  1.        , -0.32205434, -0.2920779 ,\n",
       "         0.14974635, -0.0398577 , -0.15499183, -0.46240116],\n",
       "       [ 0.61952576, -0.20273345, -0.32205434,  1.        ,  0.831686  ,\n",
       "         0.49612507,  0.01560562, -0.01905389,  0.6339583 ],\n",
       "       [ 0.80908852, -0.42583638, -0.2920779 ,  0.831686  ,  1.        ,\n",
       "         0.61977107, -0.36535802, -0.02118403,  0.74875756],\n",
       "       [ 0.50791751, -0.32069694,  0.14974635,  0.49612507,  0.61977107,\n",
       "         1.        , -0.30817546, -0.25302457,  0.01862763],\n",
       "       [-0.40893748,  0.40116206, -0.0398577 ,  0.01560562, -0.36535802,\n",
       "        -0.30817546,  1.        , -0.021881  , -0.22135214],\n",
       "       [ 0.00378898,  0.08807135, -0.15499183, -0.01905389, -0.02118403,\n",
       "        -0.25302457, -0.021881  ,  1.        ,  0.08478937],\n",
       "       [ 0.51671108, -0.34546582, -0.46240116,  0.6339583 ,  0.74875756,\n",
       "         0.01862763, -0.22135214,  0.08478937,  1.        ]])"
      ]
     },
     "execution_count": 7,
     "metadata": {},
     "output_type": "execute_result"
    }
   ],
   "source": [
    "### Using Corelation Matrix\n",
    "cor_mat = np.corrcoef(X_std.T)\n",
    "cor_mat"
   ]
  },
  {
   "cell_type": "code",
   "execution_count": 8,
   "metadata": {},
   "outputs": [],
   "source": [
    "##Extracting Eigen Values and Eigen Vectors from Corelation Matrix\n",
    "eig_vals, eig_vecs = np.linalg.eig(cor_mat)"
   ]
  },
  {
   "cell_type": "code",
   "execution_count": 9,
   "metadata": {},
   "outputs": [
    {
     "data": {
      "text/plain": [
       "array([3.80802961, 1.70283493, 1.14358071, 0.81573843, 0.70712345,\n",
       "       0.45389788, 0.23374077, 0.0195977 , 0.11545652])"
      ]
     },
     "execution_count": 9,
     "metadata": {},
     "output_type": "execute_result"
    }
   ],
   "source": [
    "eig_vals\n",
    "## represent the variance captured for each PC"
   ]
  },
  {
   "cell_type": "markdown",
   "metadata": {},
   "source": [
    "standardised data - mean = 0 std = 1 variance = 1\n",
    "market capital = 1 beta = 1 pe r= 1\n",
    "overall combined variance = 9"
   ]
  },
  {
   "cell_type": "code",
   "execution_count": 11,
   "metadata": {},
   "outputs": [
    {
     "data": {
      "text/plain": [
       "9.000000000000005"
      ]
     },
     "execution_count": 11,
     "metadata": {},
     "output_type": "execute_result"
    }
   ],
   "source": [
    "sum(eig_vals)"
   ]
  },
  {
   "cell_type": "code",
   "execution_count": 12,
   "metadata": {},
   "outputs": [
    {
     "data": {
      "text/plain": [
       "[42.311440132872264,\n",
       " 18.920388074879956,\n",
       " 12.706452320268447,\n",
       " 9.063760383419721,\n",
       " 7.856927249698165,\n",
       " 5.0433098123343765,\n",
       " 2.597119666674994,\n",
       " 1.2828501719107288,\n",
       " 0.21775218794133772]"
      ]
     },
     "execution_count": 12,
     "metadata": {},
     "output_type": "execute_result"
    }
   ],
   "source": [
    "#### Calculating %age Variance Explained by each Component\n",
    "tot = sum(eig_vals)\n",
    "var_exp = [(i / tot)*100 for i in sorted(eig_vals, reverse=True)]\n",
    "var_exp"
   ]
  },
  {
   "cell_type": "code",
   "execution_count": 13,
   "metadata": {},
   "outputs": [
    {
     "data": {
      "text/plain": [
       "array([ 42.31144013,  61.23182821,  73.93828053,  83.00204091,\n",
       "        90.85896816,  95.90227797,  98.49939764,  99.78224781,\n",
       "       100.        ])"
      ]
     },
     "execution_count": 13,
     "metadata": {},
     "output_type": "execute_result"
    }
   ],
   "source": [
    "#### Calculating cumulative %age Variance Explained \n",
    "cum_var_exp = np.cumsum(var_exp)\n",
    "cum_var_exp"
   ]
  },
  {
   "cell_type": "code",
   "execution_count": 14,
   "metadata": {},
   "outputs": [
    {
     "data": {
      "text/html": [
       "<div>\n",
       "<style scoped>\n",
       "    .dataframe tbody tr th:only-of-type {\n",
       "        vertical-align: middle;\n",
       "    }\n",
       "\n",
       "    .dataframe tbody tr th {\n",
       "        vertical-align: top;\n",
       "    }\n",
       "\n",
       "    .dataframe thead th {\n",
       "        text-align: right;\n",
       "    }\n",
       "</style>\n",
       "<table border=\"1\" class=\"dataframe\">\n",
       "  <thead>\n",
       "    <tr style=\"text-align: right;\">\n",
       "      <th></th>\n",
       "      <th>Components</th>\n",
       "      <th>Eig Values</th>\n",
       "      <th>Var expl</th>\n",
       "      <th>Cum var</th>\n",
       "    </tr>\n",
       "  </thead>\n",
       "  <tbody>\n",
       "    <tr>\n",
       "      <th>0</th>\n",
       "      <td>1</td>\n",
       "      <td>3.808030</td>\n",
       "      <td>42.311440</td>\n",
       "      <td>42.311440</td>\n",
       "    </tr>\n",
       "    <tr>\n",
       "      <th>1</th>\n",
       "      <td>2</td>\n",
       "      <td>1.702835</td>\n",
       "      <td>18.920388</td>\n",
       "      <td>61.231828</td>\n",
       "    </tr>\n",
       "    <tr>\n",
       "      <th>2</th>\n",
       "      <td>3</td>\n",
       "      <td>1.143581</td>\n",
       "      <td>12.706452</td>\n",
       "      <td>73.938281</td>\n",
       "    </tr>\n",
       "    <tr>\n",
       "      <th>3</th>\n",
       "      <td>4</td>\n",
       "      <td>0.815738</td>\n",
       "      <td>9.063760</td>\n",
       "      <td>83.002041</td>\n",
       "    </tr>\n",
       "    <tr>\n",
       "      <th>4</th>\n",
       "      <td>5</td>\n",
       "      <td>0.707123</td>\n",
       "      <td>7.856927</td>\n",
       "      <td>90.858968</td>\n",
       "    </tr>\n",
       "    <tr>\n",
       "      <th>5</th>\n",
       "      <td>6</td>\n",
       "      <td>0.453898</td>\n",
       "      <td>5.043310</td>\n",
       "      <td>95.902278</td>\n",
       "    </tr>\n",
       "    <tr>\n",
       "      <th>6</th>\n",
       "      <td>7</td>\n",
       "      <td>0.233741</td>\n",
       "      <td>2.597120</td>\n",
       "      <td>98.499398</td>\n",
       "    </tr>\n",
       "    <tr>\n",
       "      <th>7</th>\n",
       "      <td>8</td>\n",
       "      <td>0.019598</td>\n",
       "      <td>1.282850</td>\n",
       "      <td>99.782248</td>\n",
       "    </tr>\n",
       "    <tr>\n",
       "      <th>8</th>\n",
       "      <td>9</td>\n",
       "      <td>0.115457</td>\n",
       "      <td>0.217752</td>\n",
       "      <td>100.000000</td>\n",
       "    </tr>\n",
       "  </tbody>\n",
       "</table>\n",
       "</div>"
      ],
      "text/plain": [
       "   Components  Eig Values   Var expl     Cum var\n",
       "0           1    3.808030  42.311440   42.311440\n",
       "1           2    1.702835  18.920388   61.231828\n",
       "2           3    1.143581  12.706452   73.938281\n",
       "3           4    0.815738   9.063760   83.002041\n",
       "4           5    0.707123   7.856927   90.858968\n",
       "5           6    0.453898   5.043310   95.902278\n",
       "6           7    0.233741   2.597120   98.499398\n",
       "7           8    0.019598   1.282850   99.782248\n",
       "8           9    0.115457   0.217752  100.000000"
      ]
     },
     "execution_count": 14,
     "metadata": {},
     "output_type": "execute_result"
    }
   ],
   "source": [
    "Component = pd.DataFrame({\"Components\":[y for y in range(1,10)],\n",
    "                      \"Eig Values\": [x for x in eig_vals],\n",
    "                      \"Var expl\": [a for a in var_exp],\n",
    "                      \"Cum var\":[b for b in cum_var_exp]},columns = ['Components','Eig Values','Var expl','Cum var'])\n",
    "Component"
   ]
  },
  {
   "cell_type": "code",
   "execution_count": 12,
   "metadata": {},
   "outputs": [
    {
     "data": {
      "image/png": "[encoded data removed]",
      "text/plain": [
       "<matplotlib.figure.Figure at 0x113c47198>"
      ]
     },
     "metadata": {},
     "output_type": "display_data"
    }
   ],
   "source": [
    "### Scree Plot\n",
    "from matplotlib import pyplot as plt\n",
    "%matplotlib inline\n",
    "with plt.style.context('seaborn-notebook'):\n",
    "    plt.figure(figsize=(10,5))\n",
    "\n",
    "    plt.bar(range(9), var_exp, alpha=0.5, align='center',\n",
    "            label='individual explained variance')\n",
    "    plt.step(range(9), cum_var_exp,where = \"mid\",\n",
    "             label='cumulative explained variance',c =\"g\")\n",
    "    plt.ylabel('Explained variance ratio')\n",
    "    plt.xlabel('Principal components')\n",
    "    plt.legend(loc='best')"
   ]
  },
  {
   "cell_type": "code",
   "execution_count": 15,
   "metadata": {},
   "outputs": [
    {
     "data": {
      "text/html": [
       "<div>\n",
       "<style scoped>\n",
       "    .dataframe tbody tr th:only-of-type {\n",
       "        vertical-align: middle;\n",
       "    }\n",
       "\n",
       "    .dataframe tbody tr th {\n",
       "        vertical-align: top;\n",
       "    }\n",
       "\n",
       "    .dataframe thead th {\n",
       "        text-align: right;\n",
       "    }\n",
       "</style>\n",
       "<table border=\"1\" class=\"dataframe\">\n",
       "  <thead>\n",
       "    <tr style=\"text-align: right;\">\n",
       "      <th></th>\n",
       "      <th>Variables</th>\n",
       "      <th>PC 1</th>\n",
       "      <th>PC 2</th>\n",
       "      <th>PC 3</th>\n",
       "      <th>PC 4</th>\n",
       "      <th>PC 5</th>\n",
       "    </tr>\n",
       "  </thead>\n",
       "  <tbody>\n",
       "    <tr>\n",
       "      <th>0</th>\n",
       "      <td>Market_Cap</td>\n",
       "      <td>0.431325</td>\n",
       "      <td>-0.261023</td>\n",
       "      <td>-0.137483</td>\n",
       "      <td>0.419837</td>\n",
       "      <td>0.503593</td>\n",
       "    </tr>\n",
       "    <tr>\n",
       "      <th>1</th>\n",
       "      <td>Beta</td>\n",
       "      <td>-0.063225</td>\n",
       "      <td>0.341518</td>\n",
       "      <td>-0.597453</td>\n",
       "      <td>0.196650</td>\n",
       "      <td>0.045260</td>\n",
       "    </tr>\n",
       "    <tr>\n",
       "      <th>2</th>\n",
       "      <td>PE_Ratio</td>\n",
       "      <td>-0.019910</td>\n",
       "      <td>0.342783</td>\n",
       "      <td>-0.026662</td>\n",
       "      <td>0.339803</td>\n",
       "      <td>0.058542</td>\n",
       "    </tr>\n",
       "    <tr>\n",
       "      <th>3</th>\n",
       "      <td>ROE</td>\n",
       "      <td>0.241311</td>\n",
       "      <td>0.389633</td>\n",
       "      <td>0.212883</td>\n",
       "      <td>0.136908</td>\n",
       "      <td>0.050919</td>\n",
       "    </tr>\n",
       "    <tr>\n",
       "      <th>4</th>\n",
       "      <td>ROA</td>\n",
       "      <td>0.102279</td>\n",
       "      <td>0.509115</td>\n",
       "      <td>-0.448582</td>\n",
       "      <td>-0.225699</td>\n",
       "      <td>-0.004622</td>\n",
       "    </tr>\n",
       "    <tr>\n",
       "      <th>5</th>\n",
       "      <td>Asset_Turnover</td>\n",
       "      <td>-0.535867</td>\n",
       "      <td>-0.401623</td>\n",
       "      <td>-0.489535</td>\n",
       "      <td>0.040777</td>\n",
       "      <td>0.008171</td>\n",
       "    </tr>\n",
       "    <tr>\n",
       "      <th>6</th>\n",
       "      <td>Leverage</td>\n",
       "      <td>-0.648347</td>\n",
       "      <td>0.328465</td>\n",
       "      <td>0.364666</td>\n",
       "      <td>0.299164</td>\n",
       "      <td>0.102026</td>\n",
       "    </tr>\n",
       "    <tr>\n",
       "      <th>7</th>\n",
       "      <td>Rev_Growth</td>\n",
       "      <td>-0.178526</td>\n",
       "      <td>0.012635</td>\n",
       "      <td>0.048806</td>\n",
       "      <td>-0.093238</td>\n",
       "      <td>0.802750</td>\n",
       "    </tr>\n",
       "    <tr>\n",
       "      <th>8</th>\n",
       "      <td>Net_Profit_Margin</td>\n",
       "      <td>-0.038644</td>\n",
       "      <td>0.131794</td>\n",
       "      <td>0.043417</td>\n",
       "      <td>-0.707150</td>\n",
       "      <td>0.288826</td>\n",
       "    </tr>\n",
       "  </tbody>\n",
       "</table>\n",
       "</div>"
      ],
      "text/plain": [
       "           Variables      PC 1      PC 2      PC 3      PC 4      PC 5\n",
       "0         Market_Cap  0.431325 -0.261023 -0.137483  0.419837  0.503593\n",
       "1               Beta -0.063225  0.341518 -0.597453  0.196650  0.045260\n",
       "2           PE_Ratio -0.019910  0.342783 -0.026662  0.339803  0.058542\n",
       "3                ROE  0.241311  0.389633  0.212883  0.136908  0.050919\n",
       "4                ROA  0.102279  0.509115 -0.448582 -0.225699 -0.004622\n",
       "5     Asset_Turnover -0.535867 -0.401623 -0.489535  0.040777  0.008171\n",
       "6           Leverage -0.648347  0.328465  0.364666  0.299164  0.102026\n",
       "7         Rev_Growth -0.178526  0.012635  0.048806 -0.093238  0.802750\n",
       "8  Net_Profit_Margin -0.038644  0.131794  0.043417 -0.707150  0.288826"
      ]
     },
     "execution_count": 15,
     "metadata": {},
     "output_type": "execute_result"
    }
   ],
   "source": [
    "Factor_Loading = pd.DataFrame({\"Variables\":[x for x in df.columns[2:11]],\n",
    "                       \"PC 1\":[y for y in eig_vecs[0]],\n",
    "                      \"PC 2\":[y for y in eig_vecs[1]],\n",
    "                      \"PC 3\":[y for y in eig_vecs[2]],\n",
    "                      \"PC 4\":[y for y in eig_vecs[3]],\n",
    "                    \"PC 5\":[y for y in eig_vecs[4]]},\n",
    "                     columns = ['Variables','PC 1','PC 2','PC 3','PC 4','PC 5'])\n",
    "Factor_Loading"
   ]
  },
  {
   "cell_type": "code",
   "execution_count": null,
   "metadata": {},
   "outputs": [],
   "source": []
  },
  {
   "cell_type": "code",
   "execution_count": 16,
   "metadata": {},
   "outputs": [],
   "source": [
    "#Using built in function from sklearn library\n",
    "from sklearn.decomposition import PCA \n",
    "pca = PCA(n_components=5)\n",
    "factors = pca.fit_transform(X_std)\n",
    "var_exp = pca.fit(X_std.T).explained_variance_ratio_"
   ]
  },
  {
   "cell_type": "code",
   "execution_count": null,
   "metadata": {},
   "outputs": [],
   "source": []
  },
  {
   "cell_type": "code",
   "execution_count": 18,
   "metadata": {},
   "outputs": [
    {
     "name": "stderr",
     "output_type": "stream",
     "text": [
      "/anaconda3/lib/python3.6/site-packages/sklearn/cross_validation.py:41: DeprecationWarning: This module was deprecated in version 0.18 in favor of the model_selection module into which all the refactored classes and functions are moved. Also note that the interface of the new CV iterators are different from that of this module. This module will be removed in 0.20.\n",
      "  \"This module will be removed in 0.20.\", DeprecationWarning)\n"
     ]
    }
   ],
   "source": [
    "import numpy as np\n",
    "from sklearn.preprocessing import Imputer\n",
    "from sklearn.cross_validation import train_test_split\n",
    "from sklearn.neighbors import KNeighborsClassifier\n",
    "from sklearn.metrics import accuracy_score"
   ]
  },
  {
   "cell_type": "code",
   "execution_count": 21,
   "metadata": {},
   "outputs": [
    {
     "name": "stdout",
     "output_type": "stream",
     "text": [
      "Accuracy is  100.0 % for K-Value: 1\n",
      "Accuracy is  90.47619047619048 % for K-Value: 2\n",
      "Accuracy is  100.0 % for K-Value: 3\n",
      "Accuracy is  90.47619047619048 % for K-Value: 4\n"
     ]
    }
   ],
   "source": [
    "for K in range(4):\n",
    "    K_value = K+1\n",
    "    neigh = KNeighborsClassifier(n_neighbors = K_value)#, weights='uniform', algorithm='auto')\n",
    "    neigh.fit(factors, Y) \n",
    "    y_pred = neigh.predict(factors)\n",
    "    print (\"Accuracy is \", accuracy_score(Y,y_pred)*100,\"% for K-Value:\",K_value)"
   ]
  },
  {
   "cell_type": "code",
   "execution_count": 22,
   "metadata": {},
   "outputs": [],
   "source": [
    "import sklearn.pipeline as skpl\n",
    "import sklearn.linear_model as sklm\n",
    "pca = sklearnPCA(n_components=4)\n",
    "log_reg = sklm.LogisticRegression()"
   ]
  },
  {
   "cell_type": "code",
   "execution_count": 23,
   "metadata": {},
   "outputs": [],
   "source": [
    "pipeline = skpl.Pipeline([('pca',pca),('logistic_regression',log_reg)])\n",
    "fit = pipeline.fit(X,Y)"
   ]
  },
  {
   "cell_type": "code",
   "execution_count": 24,
   "metadata": {},
   "outputs": [],
   "source": [
    "pred = pipeline.predict(X)"
   ]
  },
  {
   "cell_type": "code",
   "execution_count": 25,
   "metadata": {},
   "outputs": [
    {
     "data": {
      "text/html": [
       "<div>\n",
       "<style scoped>\n",
       "    .dataframe tbody tr th:only-of-type {\n",
       "        vertical-align: middle;\n",
       "    }\n",
       "\n",
       "    .dataframe tbody tr th {\n",
       "        vertical-align: top;\n",
       "    }\n",
       "\n",
       "    .dataframe thead th {\n",
       "        text-align: right;\n",
       "    }\n",
       "</style>\n",
       "<table border=\"1\" class=\"dataframe\">\n",
       "  <thead>\n",
       "    <tr style=\"text-align: right;\">\n",
       "      <th>col_0</th>\n",
       "      <th>0</th>\n",
       "      <th>1</th>\n",
       "      <th>2</th>\n",
       "      <th>3</th>\n",
       "      <th>4</th>\n",
       "      <th>5</th>\n",
       "    </tr>\n",
       "    <tr>\n",
       "      <th>row_0</th>\n",
       "      <th></th>\n",
       "      <th></th>\n",
       "      <th></th>\n",
       "      <th></th>\n",
       "      <th></th>\n",
       "      <th></th>\n",
       "    </tr>\n",
       "  </thead>\n",
       "  <tbody>\n",
       "    <tr>\n",
       "      <th>1</th>\n",
       "      <td>0</td>\n",
       "      <td>8</td>\n",
       "      <td>2</td>\n",
       "      <td>0</td>\n",
       "      <td>0</td>\n",
       "      <td>0</td>\n",
       "    </tr>\n",
       "    <tr>\n",
       "      <th>2</th>\n",
       "      <td>0</td>\n",
       "      <td>0</td>\n",
       "      <td>1</td>\n",
       "      <td>0</td>\n",
       "      <td>0</td>\n",
       "      <td>0</td>\n",
       "    </tr>\n",
       "    <tr>\n",
       "      <th>3</th>\n",
       "      <td>0</td>\n",
       "      <td>0</td>\n",
       "      <td>0</td>\n",
       "      <td>4</td>\n",
       "      <td>0</td>\n",
       "      <td>0</td>\n",
       "    </tr>\n",
       "    <tr>\n",
       "      <th>4</th>\n",
       "      <td>2</td>\n",
       "      <td>0</td>\n",
       "      <td>0</td>\n",
       "      <td>0</td>\n",
       "      <td>2</td>\n",
       "      <td>0</td>\n",
       "    </tr>\n",
       "    <tr>\n",
       "      <th>5</th>\n",
       "      <td>0</td>\n",
       "      <td>0</td>\n",
       "      <td>0</td>\n",
       "      <td>0</td>\n",
       "      <td>0</td>\n",
       "      <td>2</td>\n",
       "    </tr>\n",
       "  </tbody>\n",
       "</table>\n",
       "</div>"
      ],
      "text/plain": [
       "col_0  0  1  2  3  4  5\n",
       "row_0                  \n",
       "1      0  8  2  0  0  0\n",
       "2      0  0  1  0  0  0\n",
       "3      0  0  0  4  0  0\n",
       "4      2  0  0  0  2  0\n",
       "5      0  0  0  0  0  2"
      ]
     },
     "execution_count": 25,
     "metadata": {},
     "output_type": "execute_result"
    }
   ],
   "source": [
    "pd.crosstab(pred,Y)"
   ]
  },
  {
   "cell_type": "code",
   "execution_count": 26,
   "metadata": {},
   "outputs": [
    {
     "data": {
      "text/plain": [
       "array([1, 2, 1, 4, 1, 3, 1, 3, 1, 1, 1, 5, 5, 4, 3, 1, 1, 1, 4, 4, 3])"
      ]
     },
     "execution_count": 26,
     "metadata": {},
     "output_type": "execute_result"
    }
   ],
   "source": [
    "pred"
   ]
  },
  {
   "cell_type": "code",
   "execution_count": null,
   "metadata": {},
   "outputs": [],
   "source": []
  }
 ],
 "metadata": {
  "kernelspec": {
   "display_name": "Python 3",
   "language": "python",
   "name": "python3"
  },
  "language_info": {
   "codemirror_mode": {
    "name": "ipython",
    "version": 3
   },
   "file_extension": ".py",
   "mimetype": "text/x-python",
   "name": "python",
   "nbconvert_exporter": "python",
   "pygments_lexer": "ipython3",
   "version": "3.6.4"
  }
 },
 "nbformat": 4,
 "nbformat_minor": 2
}
